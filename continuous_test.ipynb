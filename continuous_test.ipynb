{
 "cells": [
  {
   "cell_type": "markdown",
   "metadata": {},
   "source": [
    "# Basic test\n",
    "Tests the basic model defined in the `ContinuousModel` directory, instantiating bees, hives and resources"
   ]
  },
  {
   "cell_type": "code",
   "execution_count": 5,
   "metadata": {},
   "outputs": [
    {
     "name": "stdout",
     "output_type": "stream",
     "text": [
      "The autoreload extension is already loaded. To reload it, use:\n",
      "  %reload_ext autoreload\n"
     ]
    }
   ],
   "source": [
    "# Allows to make changes to the classes without restarting the notebook 💀 # TODO: Delete once done\n",
    "%load_ext autoreload\n",
    "%autoreload 2"
   ]
  },
  {
   "cell_type": "code",
   "execution_count": 6,
   "metadata": {},
   "outputs": [],
   "source": [
    "from ContinuousModel.Bee import Bee\n",
    "from ContinuousModel.Hive import Hive\n",
    "from ContinuousModel.Model import Model\n",
    "from ContinuousModel.Resource import Resource"
   ]
  },
  {
   "cell_type": "code",
   "execution_count": 7,
   "metadata": {},
   "outputs": [],
   "source": [
    "import mesa\n",
    "import matplotlib.pyplot as plt"
   ]
  },
  {
   "cell_type": "markdown",
   "metadata": {},
   "source": [
    "## Instantiate model"
   ]
  },
  {
   "cell_type": "code",
   "execution_count": 76,
   "metadata": {},
   "outputs": [
    {
     "name": "stderr",
     "output_type": "stream",
     "text": [
      "c:\\Users\\Pablo\\Desktop\\ABM\\Repo\\abm-project\\ContinuousModel\\Model.py:30: UserWarning: You are trying to set model.agents. In a next release, this attribute is used by MESA itself so you cannot use it directly anymore.Please adjust your code to use a different attribute name for custom agent storage\n",
      "  self.agents = []\n"
     ]
    },
    {
     "data": {
      "text/plain": [
       "<ContinuousModel.Resource.Resource at 0x293775096c0>"
      ]
     },
     "execution_count": 76,
     "metadata": {},
     "output_type": "execute_result"
    }
   ],
   "source": [
    "model = Model(SIZE=10)\n",
    "\n",
    "# Create a beehive\n",
    "HIVE = model.create_agent(Hive, location=(0,0))\n",
    "\n",
    "model.create_agent(Bee, hive=HIVE,location=HIVE.location)\n",
    "model.create_agent(Bee, hive=HIVE,location=(4,-1))\n",
    "model.create_agent(Bee, hive=HIVE,location=(-2,6))\n",
    "model.create_agent(Resource, location=(3,3))"
   ]
  },
  {
   "cell_type": "code",
   "execution_count": 60,
   "metadata": {},
   "outputs": [],
   "source": [
    "model.step()"
   ]
  },
  {
   "cell_type": "markdown",
   "metadata": {},
   "source": [
    "## Plot scenario"
   ]
  },
  {
   "cell_type": "code",
   "execution_count": 78,
   "metadata": {},
   "outputs": [
    {
     "name": "stdout",
     "output_type": "stream",
     "text": [
      "State.RESTING\n",
      "State.RESTING\n",
      "State.RESTING\n"
     ]
    },
    {
     "data": {
      "image/png": "[encoded data removed]",
      "text/plain": [
       "<Figure size 600x600 with 1 Axes>"
      ]
     },
     "metadata": {},
     "output_type": "display_data"
    }
   ],
   "source": [
    "# Create canvas\n",
    "fig, ax = plt.subplots(dpi=100,figsize=(6,6))\n",
    "\n",
    "# Set limits of space based on model parameter\n",
    "ax.set_xlim([-model.size,model.size])\n",
    "ax.set_ylim([-model.size,model.size])\n",
    "\n",
    "# Get agents of each type\n",
    "agents = model.agents\n",
    "bees = [agent for agent in agents if isinstance(agent, Bee)]\n",
    "hives = [agent for agent in agents if isinstance(agent, Hive)]\n",
    "resources = [agent for agent in agents if isinstance(agent, Resource)]\n",
    "\n",
    "for hive in hives:\n",
    "    ax.text(hive.location[0],hive.location[1], hive.young_bees)\n",
    "    ax.scatter(hive.location[0],hive.location[1],c='brown',s=3.14*hive.radius**2,label='Hives')\n",
    "\n",
    "for bee in bees:\n",
    "    # Add text indicating their state (0,1,2,3,4)\n",
    "    print(bee.state)\n",
    "    ax.text(bee.location[0],bee.location[1], str(bee.state)[6:7])\n",
    "    ax.scatter(bee.location[0],bee.location[1],c='black',label='Bees')\n",
    "\n",
    "for resource in resources:\n",
    "    # TODO: Plot resource scent\n",
    "    # TODO: Use different color depending on resource\n",
    "    ax.text(resource.location[0],resource.location[1], resource.quantity)\n",
    "    ax.scatter(resource.location[0],resource.location[1],c='green',s=3.14*resource.radius**2,label='Resource')\n",
    "\n",
    "\n",
    "# Show legend but avoid repeating labels (so there is only one per bee)\n",
    "plt.legend()\n",
    "handles, labels = plt.gca().get_legend_handles_labels()\n",
    "by_label = dict(zip(labels, handles))\n",
    "plt.legend(by_label.values(), by_label.keys())\n",
    "\n",
    "\n",
    "plt.title('Visualization')\n",
    "plt.tight_layout()\n",
    "#plt.grid()"
   ]
  },
  {
   "cell_type": "code",
   "execution_count": null,
   "metadata": {},
   "outputs": [],
   "source": []
  }
 ],
 "metadata": {
  "kernelspec": {
   "display_name": "Python 3",
   "language": "python",
   "name": "python3"
  },
  "language_info": {
   "codemirror_mode": {
    "name": "ipython",
    "version": 3
   },
   "file_extension": ".py",
   "mimetype": "text/x-python",
   "name": "python",
   "nbconvert_exporter": "python",
   "pygments_lexer": "ipython3",
   "version": "3.10.6"
  }
 },
 "nbformat": 4,
 "nbformat_minor": 2
}
