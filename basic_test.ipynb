{
 "cells": [
  {
   "cell_type": "markdown",
   "metadata": {},
   "source": [
    "# Basic test\n",
    "Tests the basic model defined in the \"basic_model.py\" file, instantiating bees, hives and resources"
   ]
  },
  {
   "cell_type": "code",
   "execution_count": 6,
   "metadata": {},
   "outputs": [],
   "source": [
    "from basic_model import Bee, BeeHive, Resource\n",
    "from basic_model import BeeModel\n",
    "from basic_model import Caste"
   ]
  },
  {
   "cell_type": "code",
   "execution_count": 7,
   "metadata": {},
   "outputs": [],
   "source": [
    "import mesa\n",
    "import matplotlib.pyplot as plt"
   ]
  },
  {
   "cell_type": "code",
   "execution_count": 5,
   "metadata": {},
   "outputs": [
    {
     "data": {
      "text/plain": [
       "'2.2.4'"
      ]
     },
     "execution_count": 5,
     "metadata": {},
     "output_type": "execute_result"
    }
   ],
   "source": [
    "mesa.__version__"
   ]
  },
  {
   "cell_type": "markdown",
   "metadata": {},
   "source": [
    "## Instantiate model"
   ]
  },
  {
   "cell_type": "code",
   "execution_count": 8,
   "metadata": {},
   "outputs": [
    {
     "name": "stderr",
     "output_type": "stream",
     "text": [
      "c:\\Users\\Pablo\\Desktop\\ABM\\Repo\\abm-project\\basic_model.py:112: UserWarning: You are trying to set model.agents. In a next release, this attribute is used by MESA itself so you cannot use it directly anymore.Please adjust your code to use a different attribute name for custom agent storage\n",
      "  self.agents = []                                        # List of all agents in the model\n"
     ]
    },
    {
     "data": {
      "text/plain": [
       "<basic_model.Resource at 0x11f3df4d0>"
      ]
     },
     "execution_count": 8,
     "metadata": {},
     "output_type": "execute_result"
    }
   ],
   "source": [
    "model = BeeModel(SIZE=5)\n",
    "\n",
    "# Create a beehive\n",
    "HIVE = model.create_agent(BeeHive, location=(0,0), radius=1)\n",
    "model.create_agent(Bee, age=10,health=1,caste=Caste.FORAGER,location=(0,0),BeeHive=HIVE)\n",
    "model.create_agent(Bee, age=15,health=1,caste=Caste.FORAGER,location=(0,1),BeeHive=HIVE)\n",
    "model.create_agent(Bee, age=20,health=1,caste=Caste.FORAGER,location=(-1,2),BeeHive=HIVE)\n",
    "model.create_agent(Resource, location=(3,3), type=\"water\", quantity=2, persistent=True)"
   ]
  },
  {
   "cell_type": "code",
   "execution_count": 9,
   "metadata": {},
   "outputs": [
    {
     "ename": "ValueError",
     "evalue": "Caste not recognized",
     "output_type": "error",
     "traceback": [
      "\u001b[1;31m---------------------------------------------------------------------------\u001b[0m",
      "\u001b[1;31mValueError\u001b[0m                                Traceback (most recent call last)",
      "Cell \u001b[1;32mIn[4], line 1\u001b[0m\n\u001b[1;32m----> 1\u001b[0m \u001b[43mmodel\u001b[49m\u001b[38;5;241;43m.\u001b[39;49m\u001b[43mstep\u001b[49m\u001b[43m(\u001b[49m\u001b[43m)\u001b[49m\n",
      "File \u001b[1;32mc:\\Users\\Pablo\\Desktop\\ABM\\Repo\\abm-project\\basic_model.py:133\u001b[0m, in \u001b[0;36mBeeModel.step\u001b[1;34m(self)\u001b[0m\n\u001b[0;32m    131\u001b[0m \u001b[38;5;28;01mdef\u001b[39;00m \u001b[38;5;21mstep\u001b[39m(\u001b[38;5;28mself\u001b[39m):\n\u001b[0;32m    132\u001b[0m     \u001b[38;5;28;01mfor\u001b[39;00m agent \u001b[38;5;129;01min\u001b[39;00m \u001b[38;5;28mself\u001b[39m\u001b[38;5;241m.\u001b[39magents:\n\u001b[1;32m--> 133\u001b[0m         \u001b[43magent\u001b[49m\u001b[38;5;241;43m.\u001b[39;49m\u001b[43mstep\u001b[49m\u001b[43m(\u001b[49m\u001b[43m)\u001b[49m\n\u001b[0;32m    134\u001b[0m     \u001b[38;5;66;03m# TODO: Add interaction of agents (?)\u001b[39;00m\n\u001b[0;32m    135\u001b[0m     \u001b[38;5;28mself\u001b[39m\u001b[38;5;241m.\u001b[39mdatacollector\u001b[38;5;241m.\u001b[39mcollect(\u001b[38;5;28mself\u001b[39m)\n",
      "File \u001b[1;32mc:\\Users\\Pablo\\Desktop\\ABM\\Repo\\abm-project\\basic_model.py:25\u001b[0m, in \u001b[0;36mBee.step\u001b[1;34m(self, dt)\u001b[0m\n\u001b[0;32m     23\u001b[0m \u001b[38;5;28;01mdef\u001b[39;00m \u001b[38;5;21mstep\u001b[39m(\u001b[38;5;28mself\u001b[39m, dt\u001b[38;5;241m=\u001b[39m\u001b[38;5;241m1\u001b[39m):\n\u001b[0;32m     24\u001b[0m     \u001b[38;5;66;03m# Manage action based on caste\u001b[39;00m\n\u001b[1;32m---> 25\u001b[0m     \u001b[38;5;28;43mself\u001b[39;49m\u001b[38;5;241;43m.\u001b[39;49m\u001b[43mstep_by_caste\u001b[49m\u001b[43m(\u001b[49m\u001b[43mdt\u001b[49m\u001b[43m)\u001b[49m\n\u001b[0;32m     27\u001b[0m     \u001b[38;5;66;03m# Manage ageing\u001b[39;00m\n\u001b[0;32m     28\u001b[0m     \u001b[38;5;28mself\u001b[39m\u001b[38;5;241m.\u001b[39mage \u001b[38;5;241m+\u001b[39m\u001b[38;5;241m=\u001b[39m dt\n",
      "File \u001b[1;32mc:\\Users\\Pablo\\Desktop\\ABM\\Repo\\abm-project\\basic_model.py:47\u001b[0m, in \u001b[0;36mBee.step_by_caste\u001b[1;34m(self, dt)\u001b[0m\n\u001b[0;32m     45\u001b[0m     \u001b[38;5;28;01mpass\u001b[39;00m\n\u001b[0;32m     46\u001b[0m \u001b[38;5;28;01melse\u001b[39;00m:\n\u001b[1;32m---> 47\u001b[0m     \u001b[38;5;28;01mraise\u001b[39;00m \u001b[38;5;167;01mValueError\u001b[39;00m(\u001b[38;5;124m\"\u001b[39m\u001b[38;5;124mCaste not recognized\u001b[39m\u001b[38;5;124m\"\u001b[39m)\n",
      "\u001b[1;31mValueError\u001b[0m: Caste not recognized"
     ]
    }
   ],
   "source": [
    "model.step()"
   ]
  },
  {
   "cell_type": "markdown",
   "metadata": {},
   "source": [
    "## Plot scenario"
   ]
  },
  {
   "cell_type": "code",
   "execution_count": null,
   "metadata": {},
   "outputs": [],
   "source": [
    "# TODO: A potential starting point \n",
    "# https://github.com/projectmesa/mesa-examples/blob/main/examples/boid_flockers/boid_flockers/SimpleContinuousModule.py"
   ]
  }
 ],
 "metadata": {
  "kernelspec": {
   "display_name": "Python 3",
   "language": "python",
   "name": "python3"
  },
  "language_info": {
   "codemirror_mode": {
    "name": "ipython",
    "version": 3
   },
   "file_extension": ".py",
   "mimetype": "text/x-python",
   "name": "python",
   "nbconvert_exporter": "python",
   "pygments_lexer": "ipython3",
   "version": "3.10.6"
  }
 },
 "nbformat": 4,
 "nbformat_minor": 2
}
