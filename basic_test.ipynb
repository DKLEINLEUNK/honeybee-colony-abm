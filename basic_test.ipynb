{
 "cells": [
  {
   "cell_type": "markdown",
   "metadata": {},
   "source": [
    "# Basic test\n",
    "Tests the basic model defined in the \"basic_model.py\" file, instantiating bees, hives and resources"
   ]
  },
  {
   "cell_type": "code",
   "execution_count": 6,
   "metadata": {},
   "outputs": [],
   "source": [
    "from basic_model import Bee, BeeHive, Resource\n",
    "from basic_model import BeeModel\n",
    "from basic_model import Caste"
   ]
  },
  {
   "cell_type": "code",
   "execution_count": 7,
   "metadata": {},
   "outputs": [],
   "source": [
    "import mesa\n",
    "import matplotlib.pyplot as plt"
   ]
  },
  {
   "cell_type": "markdown",
   "metadata": {},
   "source": [
    "## Instantiate model"
   ]
  },
  {
   "cell_type": "code",
   "execution_count": 8,
   "metadata": {},
   "outputs": [
    {
     "data": {
      "text/plain": [
       "<basic_model.Resource at 0x11f3df4d0>"
      ]
     },
     "execution_count": 8,
     "metadata": {},
     "output_type": "execute_result"
    }
   ],
   "source": [
    "model = BeeModel(SIZE=5)\n",
    "\n",
    "# Create a beehive\n",
    "HIVE = model.create_agent(BeeHive, location=(0,0), radius=1)\n",
    "model.create_agent(Bee, age=10,health=1,caste=Caste.FORAGER,location=(0,0),BeeHive=HIVE)\n",
    "model.create_agent(Bee, age=15,health=1,caste=Caste.FORAGER,location=(0,1),BeeHive=HIVE)\n",
    "model.create_agent(Bee, age=20,health=1,caste=Caste.FORAGER,location=(-1,2),BeeHive=HIVE)\n",
    "model.create_agent(Resource, location=(3,3), type=\"water\", quantity=2, persistent=True)"
   ]
  },
  {
   "cell_type": "code",
   "execution_count": 9,
   "metadata": {},
   "outputs": [],
   "source": [
    "model.step()"
   ]
  },
  {
   "cell_type": "markdown",
   "metadata": {},
   "source": [
    "## Plot scenario"
   ]
  },
  {
   "cell_type": "code",
   "execution_count": null,
   "metadata": {},
   "outputs": [],
   "source": [
    "# TODO: A potential starting point \n",
    "# https://github.com/projectmesa/mesa-examples/blob/main/examples/boid_flockers/boid_flockers/SimpleContinuousModule.py"
   ]
  }
 ],
 "metadata": {
  "kernelspec": {
   "display_name": "Python 3",
   "language": "python",
   "name": "python3"
  },
  "language_info": {
   "codemirror_mode": {
    "name": "ipython",
    "version": 3
   },
   "file_extension": ".py",
   "mimetype": "text/x-python",
   "name": "python",
   "nbconvert_exporter": "python",
   "pygments_lexer": "ipython3",
   "version": "3.11.9"
  }
 },
 "nbformat": 4,
 "nbformat_minor": 2
}
