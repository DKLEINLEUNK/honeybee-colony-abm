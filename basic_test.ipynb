{
 "cells": [
  {
   "cell_type": "markdown",
   "metadata": {},
   "source": [
    "# Basic test\n",
    "Tests the basic model defined in the \"basic_model.py\" file, instantiating bees, hives and resources"
   ]
  },
  {
   "cell_type": "code",
   "execution_count": 1,
   "metadata": {},
   "outputs": [],
   "source": [
    "from basic_model import Bee, BeeHive, Resource\n",
    "from basic_model import BeeModel"
   ]
  },
  {
   "cell_type": "code",
   "execution_count": 2,
   "metadata": {},
   "outputs": [],
   "source": [
    "import mesa\n",
    "import matplotlib.pyplot as plt"
   ]
  },
  {
   "cell_type": "markdown",
   "metadata": {},
   "source": [
    "## Instantiate model"
   ]
  },
  {
   "cell_type": "code",
   "execution_count": 3,
   "metadata": {},
   "outputs": [],
   "source": [
    "# Create a beehive\n",
    "B1 = BeeHive(location=(0,0), radius=(1))\n",
    "\n",
    "# Create some bees belonging to it\n",
    "b1 = Bee(age=10,health=1,caste=\"forager\",location=(0,0),BeeHive=B1)\n",
    "b2 = Bee(age=15,health=1,caste=\"forager\",location=(0,1),BeeHive=B1)\n",
    "b3 = Bee(age=20,health=1,caste=\"forager\",location=(-1,2),BeeHive=B1)\n",
    "\n",
    "# Create some perpetual resources\n",
    "R1 = Resource(location=(3,3), type=\"water\", quantity=2, persistent=True)"
   ]
  },
  {
   "cell_type": "code",
   "execution_count": 4,
   "metadata": {},
   "outputs": [],
   "source": [
    "model = BeeModel(SIZE=5,beehives=[B1], bees=[b1,b2,b3], resources=[R1])"
   ]
  },
  {
   "cell_type": "code",
   "execution_count": 5,
   "metadata": {},
   "outputs": [],
   "source": [
    "model.step()"
   ]
  },
  {
   "cell_type": "markdown",
   "metadata": {},
   "source": [
    "## Plot scenario"
   ]
  },
  {
   "cell_type": "code",
   "execution_count": null,
   "metadata": {},
   "outputs": [],
   "source": [
    "# TODO: A potential starting point \n",
    "# https://github.com/projectmesa/mesa-examples/blob/main/examples/boid_flockers/boid_flockers/SimpleContinuousModule.py"
   ]
  }
 ],
 "metadata": {
  "kernelspec": {
   "display_name": "Python 3",
   "language": "python",
   "name": "python3"
  },
  "language_info": {
   "codemirror_mode": {
    "name": "ipython",
    "version": 3
   },
   "file_extension": ".py",
   "mimetype": "text/x-python",
   "name": "python",
   "nbconvert_exporter": "python",
   "pygments_lexer": "ipython3",
   "version": "3.10.6"
  }
 },
 "nbformat": 4,
 "nbformat_minor": 2
}
