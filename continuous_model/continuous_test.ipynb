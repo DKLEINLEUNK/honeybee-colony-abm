{
 "cells": [
  {
   "cell_type": "markdown",
   "metadata": {},
   "source": [
    "# Basic test\n",
    "Tests the basic model defined in the `ContinuousModel` directory, instantiating bees, hives and resources"
   ]
  },
  {
   "cell_type": "code",
   "execution_count": 29,
   "metadata": {},
   "outputs": [
    {
     "name": "stdout",
     "output_type": "stream",
     "text": [
      "The autoreload extension is already loaded. To reload it, use:\n",
      "  %reload_ext autoreload\n"
     ]
    }
   ],
   "source": [
    "# Allows to make changes to the classes without restarting the notebook 💀 # TODO: Delete once done\n",
    "%load_ext autoreload\n",
    "%autoreload 2"
   ]
  },
  {
   "cell_type": "code",
   "execution_count": 30,
   "metadata": {},
   "outputs": [],
   "source": [
    "from continuous_model.Bee import Bee\n",
    "from continuous_model.Hive import Hive\n",
    "from continuous_model.Model import ForagerModel\n",
    "from continuous_model.Resource import Resource"
   ]
  },
  {
   "cell_type": "code",
   "execution_count": 31,
   "metadata": {},
   "outputs": [],
   "source": [
    "import mesa\n",
    "import matplotlib.pyplot as plt\n",
    "import numpy as np\n",
    "from scipy.stats import multivariate_normal"
   ]
  },
  {
   "cell_type": "markdown",
   "metadata": {},
   "source": [
    "## Instantiate model"
   ]
  },
  {
   "cell_type": "code",
   "execution_count": 32,
   "metadata": {},
   "outputs": [],
   "source": [
    "SIZE = 500\n",
    "n_hives = 2\n",
    "hive_locations = [(100,100), (200,250)]\n",
    "n_bees_per_hive = [20, 50]\n",
    "n_resources = 5\n",
    "resource_locations = [(300,300), (350, 320), (325, 325), (400, 90), (380, 80)]"
   ]
  },
  {
   "cell_type": "code",
   "execution_count": 33,
   "metadata": {},
   "outputs": [],
   "source": [
    "model = ForagerModel(SIZE, n_hives, hive_locations, n_bees_per_hive, n_resources, resource_locations)"
   ]
  },
  {
   "cell_type": "code",
   "execution_count": 34,
   "metadata": {},
   "outputs": [],
   "source": [
    "for _ in range(100):\n",
    "    model = ForagerModel(SIZE, n_hives, hive_locations, n_bees_per_hive, n_resources, resource_locations)\n",
    "    for agent in model.agents:\n",
    "        assert agent.pos != None"
   ]
  },
  {
   "cell_type": "code",
   "execution_count": 35,
   "metadata": {},
   "outputs": [
    {
     "ename": "KeyboardInterrupt",
     "evalue": "",
     "output_type": "error",
     "traceback": [
      "\u001b[1;31m---------------------------------------------------------------------------\u001b[0m",
      "\u001b[1;31mKeyboardInterrupt\u001b[0m                         Traceback (most recent call last)",
      "Cell \u001b[1;32mIn[35], line 1\u001b[0m\n\u001b[1;32m----> 1\u001b[0m \u001b[43mmodel\u001b[49m\u001b[38;5;241;43m.\u001b[39;49m\u001b[43mrun_model\u001b[49m\u001b[43m(\u001b[49m\u001b[43m)\u001b[49m\n",
      "File \u001b[1;32me:\\Python\\lib\\site-packages\\mesa\\model.py:116\u001b[0m, in \u001b[0;36mModel.run_model\u001b[1;34m(self)\u001b[0m\n\u001b[0;32m    112\u001b[0m \u001b[38;5;250m\u001b[39m\u001b[38;5;124;03m\"\"\"Run the model until the end condition is reached. Overload as\u001b[39;00m\n\u001b[0;32m    113\u001b[0m \u001b[38;5;124;03mneeded.\u001b[39;00m\n\u001b[0;32m    114\u001b[0m \u001b[38;5;124;03m\"\"\"\u001b[39;00m\n\u001b[0;32m    115\u001b[0m \u001b[38;5;28;01mwhile\u001b[39;00m \u001b[38;5;28mself\u001b[39m\u001b[38;5;241m.\u001b[39mrunning:\n\u001b[1;32m--> 116\u001b[0m     \u001b[38;5;28;43mself\u001b[39;49m\u001b[38;5;241;43m.\u001b[39;49m\u001b[43mstep\u001b[49m\u001b[43m(\u001b[49m\u001b[43m)\u001b[49m\n",
      "File \u001b[1;32md:\\UvA\\agent_based_modelling\\abm-project\\continuous_model\\continuous_model\\Model.py:103\u001b[0m, in \u001b[0;36mForagerModel.step\u001b[1;34m(self)\u001b[0m\n\u001b[0;32m    102\u001b[0m \u001b[38;5;28;01mdef\u001b[39;00m \u001b[38;5;21mstep\u001b[39m(\u001b[38;5;28mself\u001b[39m):\n\u001b[1;32m--> 103\u001b[0m     \u001b[38;5;28;43mself\u001b[39;49m\u001b[38;5;241;43m.\u001b[39;49m\u001b[43mschedule\u001b[49m\u001b[38;5;241;43m.\u001b[39;49m\u001b[43mstep\u001b[49m\u001b[43m(\u001b[49m\u001b[43m)\u001b[49m\n\u001b[0;32m    104\u001b[0m     \u001b[38;5;28mself\u001b[39m\u001b[38;5;241m.\u001b[39mmanage_weather_events()\n\u001b[0;32m    106\u001b[0m     \u001b[38;5;66;03m# TODO: Add interaction of agents (?)\u001b[39;00m\n",
      "File \u001b[1;32me:\\Python\\lib\\site-packages\\mesa\\time.py:120\u001b[0m, in \u001b[0;36mBaseScheduler._wrapped_step\u001b[1;34m(self)\u001b[0m\n\u001b[0;32m    118\u001b[0m \u001b[38;5;28;01mdef\u001b[39;00m \u001b[38;5;21m_wrapped_step\u001b[39m(\u001b[38;5;28mself\u001b[39m):\n\u001b[0;32m    119\u001b[0m \u001b[38;5;250m    \u001b[39m\u001b[38;5;124;03m\"\"\"Wrapper for the step method to include time and step updating.\"\"\"\u001b[39;00m\n\u001b[1;32m--> 120\u001b[0m     \u001b[38;5;28;43mself\u001b[39;49m\u001b[38;5;241;43m.\u001b[39;49m\u001b[43m_original_step\u001b[49m\u001b[43m(\u001b[49m\u001b[43m)\u001b[49m\n\u001b[0;32m    121\u001b[0m     \u001b[38;5;28mself\u001b[39m\u001b[38;5;241m.\u001b[39mmodel\u001b[38;5;241m.\u001b[39m_advance_time()\n",
      "File \u001b[1;32me:\\Python\\lib\\site-packages\\mesa\\time.py:176\u001b[0m, in \u001b[0;36mRandomActivation.step\u001b[1;34m(self)\u001b[0m\n\u001b[0;32m    171\u001b[0m \u001b[38;5;28;01mdef\u001b[39;00m \u001b[38;5;21mstep\u001b[39m(\u001b[38;5;28mself\u001b[39m) \u001b[38;5;241m-\u001b[39m\u001b[38;5;241m>\u001b[39m \u001b[38;5;28;01mNone\u001b[39;00m:\n\u001b[0;32m    172\u001b[0m \u001b[38;5;250m    \u001b[39m\u001b[38;5;124;03m\"\"\"Executes the step of all agents, one at a time, in\u001b[39;00m\n\u001b[0;32m    173\u001b[0m \u001b[38;5;124;03m    random order.\u001b[39;00m\n\u001b[0;32m    174\u001b[0m \n\u001b[0;32m    175\u001b[0m \u001b[38;5;124;03m    \"\"\"\u001b[39;00m\n\u001b[1;32m--> 176\u001b[0m     \u001b[38;5;28;43mself\u001b[39;49m\u001b[38;5;241;43m.\u001b[39;49m\u001b[43mdo_each\u001b[49m\u001b[43m(\u001b[49m\u001b[38;5;124;43m\"\u001b[39;49m\u001b[38;5;124;43mstep\u001b[39;49m\u001b[38;5;124;43m\"\u001b[39;49m\u001b[43m,\u001b[49m\u001b[43m \u001b[49m\u001b[43mshuffle\u001b[49m\u001b[38;5;241;43m=\u001b[39;49m\u001b[38;5;28;43;01mTrue\u001b[39;49;00m\u001b[43m)\u001b[49m\n\u001b[0;32m    177\u001b[0m     \u001b[38;5;28mself\u001b[39m\u001b[38;5;241m.\u001b[39msteps \u001b[38;5;241m+\u001b[39m\u001b[38;5;241m=\u001b[39m \u001b[38;5;241m1\u001b[39m\n\u001b[0;32m    178\u001b[0m     \u001b[38;5;28mself\u001b[39m\u001b[38;5;241m.\u001b[39mtime \u001b[38;5;241m+\u001b[39m\u001b[38;5;241m=\u001b[39m \u001b[38;5;241m1\u001b[39m\n",
      "File \u001b[1;32me:\\Python\\lib\\site-packages\\mesa\\time.py:152\u001b[0m, in \u001b[0;36mBaseScheduler.do_each\u001b[1;34m(self, method, shuffle)\u001b[0m\n\u001b[0;32m    150\u001b[0m \u001b[38;5;28;01mif\u001b[39;00m shuffle:\n\u001b[0;32m    151\u001b[0m     \u001b[38;5;28mself\u001b[39m\u001b[38;5;241m.\u001b[39m_agents\u001b[38;5;241m.\u001b[39mshuffle(inplace\u001b[38;5;241m=\u001b[39m\u001b[38;5;28;01mTrue\u001b[39;00m)\n\u001b[1;32m--> 152\u001b[0m \u001b[38;5;28;43mself\u001b[39;49m\u001b[38;5;241;43m.\u001b[39;49m\u001b[43m_agents\u001b[49m\u001b[38;5;241;43m.\u001b[39;49m\u001b[43mdo\u001b[49m\u001b[43m(\u001b[49m\u001b[43mmethod\u001b[49m\u001b[43m)\u001b[49m\n",
      "File \u001b[1;32me:\\Python\\lib\\site-packages\\mesa\\agent.py:245\u001b[0m, in \u001b[0;36mAgentSet.do\u001b[1;34m(self, method_name, return_results, *args, **kwargs)\u001b[0m\n\u001b[0;32m    232\u001b[0m \u001b[38;5;250m\u001b[39m\u001b[38;5;124;03m\"\"\"\u001b[39;00m\n\u001b[0;32m    233\u001b[0m \u001b[38;5;124;03mInvoke a method on each agent in the AgentSet.\u001b[39;00m\n\u001b[0;32m    234\u001b[0m \n\u001b[1;32m   (...)\u001b[0m\n\u001b[0;32m    242\u001b[0m \u001b[38;5;124;03m    AgentSet | list[Any]: The results of the method calls if return_results is True, otherwise the AgentSet itself.\u001b[39;00m\n\u001b[0;32m    243\u001b[0m \u001b[38;5;124;03m\"\"\"\u001b[39;00m\n\u001b[0;32m    244\u001b[0m \u001b[38;5;66;03m# we iterate over the actual weakref keys and check if weakref is alive before calling the method\u001b[39;00m\n\u001b[1;32m--> 245\u001b[0m res \u001b[38;5;241m=\u001b[39m [\n\u001b[0;32m    246\u001b[0m     \u001b[38;5;28mgetattr\u001b[39m(agent, method_name)(\u001b[38;5;241m*\u001b[39margs, \u001b[38;5;241m*\u001b[39m\u001b[38;5;241m*\u001b[39mkwargs)\n\u001b[0;32m    247\u001b[0m     \u001b[38;5;28;01mfor\u001b[39;00m agentref \u001b[38;5;129;01min\u001b[39;00m \u001b[38;5;28mself\u001b[39m\u001b[38;5;241m.\u001b[39m_agents\u001b[38;5;241m.\u001b[39mkeyrefs()\n\u001b[0;32m    248\u001b[0m     \u001b[38;5;28;01mif\u001b[39;00m (agent \u001b[38;5;241m:=\u001b[39m agentref()) \u001b[38;5;129;01mis\u001b[39;00m \u001b[38;5;129;01mnot\u001b[39;00m \u001b[38;5;28;01mNone\u001b[39;00m\n\u001b[0;32m    249\u001b[0m ]\n\u001b[0;32m    251\u001b[0m \u001b[38;5;28;01mreturn\u001b[39;00m res \u001b[38;5;28;01mif\u001b[39;00m return_results \u001b[38;5;28;01melse\u001b[39;00m \u001b[38;5;28mself\u001b[39m\n",
      "File \u001b[1;32me:\\Python\\lib\\site-packages\\mesa\\agent.py:246\u001b[0m, in \u001b[0;36m<listcomp>\u001b[1;34m(.0)\u001b[0m\n\u001b[0;32m    232\u001b[0m \u001b[38;5;250m\u001b[39m\u001b[38;5;124;03m\"\"\"\u001b[39;00m\n\u001b[0;32m    233\u001b[0m \u001b[38;5;124;03mInvoke a method on each agent in the AgentSet.\u001b[39;00m\n\u001b[0;32m    234\u001b[0m \n\u001b[1;32m   (...)\u001b[0m\n\u001b[0;32m    242\u001b[0m \u001b[38;5;124;03m    AgentSet | list[Any]: The results of the method calls if return_results is True, otherwise the AgentSet itself.\u001b[39;00m\n\u001b[0;32m    243\u001b[0m \u001b[38;5;124;03m\"\"\"\u001b[39;00m\n\u001b[0;32m    244\u001b[0m \u001b[38;5;66;03m# we iterate over the actual weakref keys and check if weakref is alive before calling the method\u001b[39;00m\n\u001b[0;32m    245\u001b[0m res \u001b[38;5;241m=\u001b[39m [\n\u001b[1;32m--> 246\u001b[0m     \u001b[38;5;28mgetattr\u001b[39m(agent, method_name)(\u001b[38;5;241m*\u001b[39margs, \u001b[38;5;241m*\u001b[39m\u001b[38;5;241m*\u001b[39mkwargs)\n\u001b[0;32m    247\u001b[0m     \u001b[38;5;28;01mfor\u001b[39;00m agentref \u001b[38;5;129;01min\u001b[39;00m \u001b[38;5;28mself\u001b[39m\u001b[38;5;241m.\u001b[39m_agents\u001b[38;5;241m.\u001b[39mkeyrefs()\n\u001b[0;32m    248\u001b[0m     \u001b[38;5;28;01mif\u001b[39;00m (agent \u001b[38;5;241m:=\u001b[39m agentref()) \u001b[38;5;129;01mis\u001b[39;00m \u001b[38;5;129;01mnot\u001b[39;00m \u001b[38;5;28;01mNone\u001b[39;00m\n\u001b[0;32m    249\u001b[0m ]\n\u001b[0;32m    251\u001b[0m \u001b[38;5;28;01mreturn\u001b[39;00m res \u001b[38;5;28;01mif\u001b[39;00m return_results \u001b[38;5;28;01melse\u001b[39;00m \u001b[38;5;28mself\u001b[39m\n",
      "File \u001b[1;32md:\\UvA\\agent_based_modelling\\abm-project\\continuous_model\\continuous_model\\Bee.py:77\u001b[0m, in \u001b[0;36mBee.step\u001b[1;34m(self)\u001b[0m\n\u001b[0;32m     76\u001b[0m \u001b[38;5;28;01mdef\u001b[39;00m \u001b[38;5;21mstep\u001b[39m(\u001b[38;5;28mself\u001b[39m):\n\u001b[1;32m---> 77\u001b[0m     \u001b[38;5;28;43mself\u001b[39;49m\u001b[38;5;241;43m.\u001b[39;49m\u001b[43mstep_by_caste\u001b[49m\u001b[43m(\u001b[49m\u001b[43m)\u001b[49m                      \u001b[38;5;66;03m# Manage action based on caste\u001b[39;00m\n\u001b[0;32m     78\u001b[0m     \u001b[38;5;28mself\u001b[39m\u001b[38;5;241m.\u001b[39mmanage_death()\n",
      "File \u001b[1;32md:\\UvA\\agent_based_modelling\\abm-project\\continuous_model\\continuous_model\\Bee.py:218\u001b[0m, in \u001b[0;36mBee.step_by_caste\u001b[1;34m(self)\u001b[0m\n\u001b[0;32m    215\u001b[0m                 \u001b[38;5;28;01mreturn\u001b[39;00m\n\u001b[0;32m    217\u001b[0m         \u001b[38;5;66;03m# Explore randomly\u001b[39;00m\n\u001b[1;32m--> 218\u001b[0m         \u001b[38;5;28;43mself\u001b[39;49m\u001b[38;5;241;43m.\u001b[39;49m\u001b[43mmove_random_exploration\u001b[49m\u001b[43m(\u001b[49m\u001b[43m)\u001b[49m\n\u001b[0;32m    219\u001b[0m     \u001b[38;5;28;01mreturn\u001b[39;00m\n\u001b[0;32m    220\u001b[0m \u001b[38;5;28;01melif\u001b[39;00m \u001b[38;5;28mself\u001b[39m\u001b[38;5;241m.\u001b[39mstate \u001b[38;5;241m==\u001b[39m Bee\u001b[38;5;241m.\u001b[39mState\u001b[38;5;241m.\u001b[39mCARRYING: \u001b[38;5;66;03m# Start carrying resources and bring back to the hive\u001b[39;00m\n\u001b[0;32m    221\u001b[0m     \u001b[38;5;66;03m# Instantly gather resources\u001b[39;00m\n",
      "File \u001b[1;32md:\\UvA\\agent_based_modelling\\abm-project\\continuous_model\\continuous_model\\Bee.py:110\u001b[0m, in \u001b[0;36mBee.move_random_exploration\u001b[1;34m(self)\u001b[0m\n\u001b[0;32m    105\u001b[0m newpos \u001b[38;5;241m=\u001b[39m (newx, newy)\n\u001b[0;32m    107\u001b[0m \u001b[38;5;66;03m# Calculate resource attraction bias\u001b[39;00m\n\u001b[0;32m    108\u001b[0m \u001b[38;5;66;03m# TODO: Use bee STATE to incorporate different biases in random walk!\u001b[39;00m\n\u001b[0;32m    109\u001b[0m \u001b[38;5;66;03m# TODO: Positive bias towards the resources\u001b[39;00m\n\u001b[1;32m--> 110\u001b[0m attraction_current \u001b[38;5;241m=\u001b[39m \u001b[38;5;28;43mself\u001b[39;49m\u001b[38;5;241;43m.\u001b[39;49m\u001b[43mresource_attraction\u001b[49m\u001b[43m(\u001b[49m\u001b[38;5;28;43mself\u001b[39;49m\u001b[38;5;241;43m.\u001b[39;49m\u001b[43mpos\u001b[49m\u001b[43m)\u001b[49m\n\u001b[0;32m    111\u001b[0m attraction_new \u001b[38;5;241m=\u001b[39m \u001b[38;5;28mself\u001b[39m\u001b[38;5;241m.\u001b[39mresource_attraction(newpos)\n\u001b[0;32m    113\u001b[0m \u001b[38;5;66;03m# TODO: Negative bias away from the hive\u001b[39;00m\n\u001b[0;32m    114\u001b[0m \u001b[38;5;66;03m# dist_to_hive = np.hypot(newpos[0] - self.hive.pos[0], newpos[1] - self.hive.pos[1])\u001b[39;00m\n\u001b[0;32m    115\u001b[0m \u001b[38;5;66;03m# if dist_to_hive < Bee.HIVE_MOVE_AWAY_TH:\u001b[39;00m\n\u001b[0;32m    116\u001b[0m \n\u001b[0;32m    117\u001b[0m \u001b[38;5;66;03m# Metropolis algorithm\u001b[39;00m\n",
      "File \u001b[1;32md:\\UvA\\agent_based_modelling\\abm-project\\continuous_model\\continuous_model\\Bee.py:85\u001b[0m, in \u001b[0;36mBee.resource_attraction\u001b[1;34m(self, pos)\u001b[0m\n\u001b[0;32m     82\u001b[0m attraction \u001b[38;5;241m=\u001b[39m \u001b[38;5;241m0.0\u001b[39m\n\u001b[0;32m     83\u001b[0m \u001b[38;5;28;01mfor\u001b[39;00m resource \u001b[38;5;129;01min\u001b[39;00m \u001b[38;5;28mself\u001b[39m\u001b[38;5;241m.\u001b[39mmodel\u001b[38;5;241m.\u001b[39mget_agents_of_type(Resource):\n\u001b[0;32m     84\u001b[0m     \u001b[38;5;66;03m# TODO: Change the covariance value to a reasonable number\u001b[39;00m\n\u001b[1;32m---> 85\u001b[0m     attraction \u001b[38;5;241m+\u001b[39m\u001b[38;5;241m=\u001b[39m \u001b[43mmultivariate_normal\u001b[49m\u001b[38;5;241;43m.\u001b[39;49m\u001b[43mpdf\u001b[49m\u001b[43m(\u001b[49m\u001b[38;5;28;43mlist\u001b[39;49m\u001b[43m(\u001b[49m\u001b[43mpos\u001b[49m\u001b[43m)\u001b[49m\u001b[43m,\u001b[49m\u001b[43m \u001b[49m\u001b[38;5;28;43mlist\u001b[39;49m\u001b[43m(\u001b[49m\u001b[43mresource\u001b[49m\u001b[38;5;241;43m.\u001b[39;49m\u001b[43mpos\u001b[49m\u001b[43m)\u001b[49m\u001b[43m,\u001b[49m\u001b[43m \u001b[49m\u001b[43mcov\u001b[49m\u001b[38;5;241;43m=\u001b[39;49m\u001b[38;5;28;43mself\u001b[39;49m\u001b[38;5;241;43m.\u001b[39;49m\u001b[43mmodel\u001b[49m\u001b[38;5;241;43m.\u001b[39;49m\u001b[43msize\u001b[49m\u001b[43m)\u001b[49m\n\u001b[0;32m     86\u001b[0m \u001b[38;5;28;01mreturn\u001b[39;00m attraction\n",
      "File \u001b[1;32me:\\Python\\lib\\site-packages\\scipy\\stats\\_multivariate.py:587\u001b[0m, in \u001b[0;36mmultivariate_normal_gen.pdf\u001b[1;34m(self, x, mean, cov, allow_singular)\u001b[0m\n\u001b[0;32m    585\u001b[0m dim, mean, cov_object \u001b[38;5;241m=\u001b[39m params\n\u001b[0;32m    586\u001b[0m x \u001b[38;5;241m=\u001b[39m \u001b[38;5;28mself\u001b[39m\u001b[38;5;241m.\u001b[39m_process_quantiles(x, dim)\n\u001b[1;32m--> 587\u001b[0m out \u001b[38;5;241m=\u001b[39m np\u001b[38;5;241m.\u001b[39mexp(\u001b[38;5;28;43mself\u001b[39;49m\u001b[38;5;241;43m.\u001b[39;49m\u001b[43m_logpdf\u001b[49m\u001b[43m(\u001b[49m\u001b[43mx\u001b[49m\u001b[43m,\u001b[49m\u001b[43m \u001b[49m\u001b[43mmean\u001b[49m\u001b[43m,\u001b[49m\u001b[43m \u001b[49m\u001b[43mcov_object\u001b[49m\u001b[43m)\u001b[49m)\n\u001b[0;32m    588\u001b[0m \u001b[38;5;28;01mif\u001b[39;00m np\u001b[38;5;241m.\u001b[39many(cov_object\u001b[38;5;241m.\u001b[39mrank \u001b[38;5;241m<\u001b[39m dim):\n\u001b[0;32m    589\u001b[0m     out_of_bounds \u001b[38;5;241m=\u001b[39m \u001b[38;5;241m~\u001b[39mcov_object\u001b[38;5;241m.\u001b[39m_support_mask(x\u001b[38;5;241m-\u001b[39mmean)\n",
      "\u001b[1;31mKeyboardInterrupt\u001b[0m: "
     ]
    }
   ],
   "source": [
    "model.run_model()"
   ]
  },
  {
   "cell_type": "markdown",
   "metadata": {},
   "source": [
    "## Plot scenario"
   ]
  },
  {
   "cell_type": "code",
   "execution_count": null,
   "metadata": {},
   "outputs": [],
   "source": [
    "# Create canvas\n",
    "fig, ax = plt.subplots(dpi=100,figsize=(6,6))\n",
    "\n",
    "# Set limits of space based on model parameter\n",
    "ax.set_xlim([-model.size,model.size])\n",
    "ax.set_ylim([-model.size,model.size])\n",
    "\n",
    "# Get agents of each type\n",
    "agents = model.agents\n",
    "bees = [agent for agent in agents if isinstance(agent, Bee)]\n",
    "hives = [agent for agent in agents if isinstance(agent, Hive)]\n",
    "resources = [agent for agent in agents if isinstance(agent, Resource)]\n",
    "\n",
    "for hive in hives:\n",
    "    ax.text(hive.location[0],hive.location[1], hive.young_bees)\n",
    "    ax.scatter(hive.location[0],hive.location[1],c='brown',s=3.14*hive.radius**2,label='Hives')\n",
    "\n",
    "for bee in bees:\n",
    "    # Add text indicating their state (0,1,2,3,4)\n",
    "    ax.text(bee.location[0],bee.location[1], str(bee.state)[6:7])\n",
    "    ax.scatter(bee.location[0],bee.location[1],c='black',label='Bees')\n",
    "\n",
    "for resource in resources:\n",
    "    # TODO: Plot resource scent\n",
    "    # TODO: Use different color depending on resource\n",
    "    ax.text(resource.location[0],resource.location[1], resource.quantity)\n",
    "    ax.scatter(resource.location[0],resource.location[1],c='green',s=3.14*resource.radius**2,label='Resource')\n",
    "\n",
    "\n",
    "# Show legend but avoid repeating labels (so there is only one per bee)\n",
    "plt.legend()\n",
    "handles, labels = plt.gca().get_legend_handles_labels()\n",
    "by_label = dict(zip(labels, handles))\n",
    "plt.legend(by_label.values(), by_label.keys())\n",
    "\n",
    "\n",
    "plt.title('Visualization')\n",
    "plt.tight_layout()\n",
    "#plt.grid()"
   ]
  },
  {
   "cell_type": "code",
   "execution_count": null,
   "metadata": {},
   "outputs": [],
   "source": [
    "# Create visualization loop"
   ]
  },
  {
   "cell_type": "markdown",
   "metadata": {},
   "source": [
    "___"
   ]
  },
  {
   "cell_type": "markdown",
   "metadata": {},
   "source": [
    "## Visualization and simulation test\n",
    "- Does model.step() many times, and visualizes evolution\n",
    "- Later on we should be able to create the animation :)"
   ]
  },
  {
   "cell_type": "code",
   "execution_count": null,
   "metadata": {},
   "outputs": [],
   "source": [
    "# Create function for visualization\n",
    "\n",
    "def visualize(model,dpi=100,figsize=(6,6),step=1):\n",
    "    # Create canvas\n",
    "    fig, ax = plt.subplots(dpi=dpi,figsize=figsize)\n",
    "\n",
    "    # Set limits of space based on model parameter\n",
    "    ax.set_xlim([-model.size,model.size])\n",
    "    ax.set_ylim([-model.size,model.size])\n",
    "\n",
    "    # Get agents of each type\n",
    "    agents = model.agents\n",
    "    bees = [agent for agent in agents if isinstance(agent, Bee)]\n",
    "    hives = [agent for agent in agents if isinstance(agent, Hive)]\n",
    "    resources = [agent for agent in agents if isinstance(agent, Resource)]\n",
    "\n",
    "    for hive in hives:\n",
    "        ax.text(hive.location[0],hive.location[1], hive.young_bees)\n",
    "        ax.scatter(hive.location[0],hive.location[1],c='brown',s=3.14*hive.radius**2,label=f'Hive {hive.location}')\n",
    "\n",
    "    for bee in bees:\n",
    "        # Add text indicating their state (0,1,2,3,4)\n",
    "        #ax.text(bee.location[0],bee.location[1], str(bee.state)[6:7])\n",
    "        ax.text(bee.location[0],bee.location[1], '('+str(round(bee.location[0],2))+','+str(round(bee.location[1],2))+')-'+str(bee.state)[6:7])\n",
    "        ax.scatter(bee.location[0],bee.location[1],c='black',label='Bees')\n",
    "\n",
    "    for resource in resources:\n",
    "        # TODO: Plot resource scent\n",
    "        # TODO: Use different color depending on resource\n",
    "        ax.text(resource.location[0],resource.location[1], resource.quantity)\n",
    "        ax.scatter(resource.location[0],resource.location[1],c='green',s=3.14*resource.radius**2,label='Resource')\n",
    "\n",
    "\n",
    "    # Show legend but avoid repeating labels (so there is only one per bee)\n",
    "    plt.legend()\n",
    "    handles, labels = plt.gca().get_legend_handles_labels()\n",
    "    by_label = dict(zip(labels, handles))\n",
    "    plt.legend(by_label.values(), by_label.keys())\n",
    "\n",
    "\n",
    "    plt.title(f'Visualization (t={step})')\n",
    "    plt.tight_layout()\n",
    "#plt.grid()"
   ]
  },
  {
   "cell_type": "markdown",
   "metadata": {},
   "source": [
    "___"
   ]
  },
  {
   "cell_type": "code",
   "execution_count": null,
   "metadata": {},
   "outputs": [],
   "source": [
    "# Create model, a hive, a bee and a single resource\n",
    "model = ForagerModel(SIZE=10)\n",
    "HIVE = model.create_agent(Hive, location=(0,0))\n",
    "model.create_agent(Bee, hive=HIVE,location=(0,0))\n",
    "model.create_agent(Resource, location=(3,3))"
   ]
  },
  {
   "cell_type": "code",
   "execution_count": null,
   "metadata": {},
   "outputs": [],
   "source": [
    "STEPS = 5\n",
    "for step in range(STEPS):\n",
    "    visualize(model,dpi=80,figsize=(5,5),step=step)\n",
    "    model.step()\n",
    "    \n",
    "    "
   ]
  },
  {
   "cell_type": "code",
   "execution_count": null,
   "metadata": {},
   "outputs": [],
   "source": [
    "for bee in bees:\n",
    "        # Add text indicating their state (0,1,2,3,4)\n",
    "        print(bee.location,bee.state)"
   ]
  },
  {
   "cell_type": "markdown",
   "metadata": {},
   "source": [
    "## Animation test\n",
    "- Saves the figures of each time step in an array\n",
    "- Creates an animation out of them"
   ]
  },
  {
   "cell_type": "code",
   "execution_count": null,
   "metadata": {},
   "outputs": [],
   "source": [
    "# Create model, a hive, a bee and a single resource\n",
    "model = Model(SIZE=10)\n",
    "HIVE = model.create_agent(Hive, location=(0,0))\n",
    "model.create_agent(Bee, hive=HIVE,location=(0,0))\n",
    "model.create_agent(Resource, location=(3,3))\n",
    "\n",
    "STEPS = 5\n",
    "figures = []\n",
    "for step in range(STEPS):\n",
    "    figures.append([visualize(model,dpi=80,figsize=(5,5),step=step)])\n",
    "    model.step()"
   ]
  },
  {
   "cell_type": "code",
   "execution_count": null,
   "metadata": {},
   "outputs": [],
   "source": [
    "# Based on PLT tutorial at https://matplotlib.org/stable/gallery/animation/dynamic_image.html\n",
    "# and https://matplotlib.org/stable/gallery/animation/simple_scatter.html\n",
    "import matplotlib.animation as animation\n",
    "\n",
    "fig, ax = plt.subplots()\n",
    "\n",
    "\n",
    "ani = animation.ArtistAnimation(fig, figures, interval=50, blit=True,\n",
    "                                repeat_delay=1000)\n",
    "\n",
    "ani.save(\"movie.mp4\")"
   ]
  },
  {
   "cell_type": "code",
   "execution_count": null,
   "metadata": {},
   "outputs": [],
   "source": [
    "\n",
    "import matplotlib.animation as animation \n",
    "import matplotlib.pyplot as plt \n",
    "\n",
    "fig, ax = plt.subplots() \n",
    "\n",
    "def update(i):\n",
    "    # This does not work, likely because animation must plot eveyrhing at each step instead of working with the resulting figure with text and legend etc...\n",
    "    return figures[i]\n",
    "\n",
    "ani = animation.FuncAnimation(fig, update, frames=len(figures), interval=50, blit=True)\n",
    "ani.save(\"animation.mp4\")\n",
    "plt.show()\n"
   ]
  },
  {
   "cell_type": "code",
   "execution_count": null,
   "metadata": {},
   "outputs": [],
   "source": []
  }
 ],
 "metadata": {
  "kernelspec": {
   "display_name": "Python 3",
   "language": "python",
   "name": "python3"
  },
  "language_info": {
   "codemirror_mode": {
    "name": "ipython",
    "version": 3
   },
   "file_extension": ".py",
   "mimetype": "text/x-python",
   "name": "python",
   "nbconvert_exporter": "python",
   "pygments_lexer": "ipython3",
   "version": "3.10.4"
  }
 },
 "nbformat": 4,
 "nbformat_minor": 2
}
