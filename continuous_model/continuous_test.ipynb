{
 "cells": [
  {
   "cell_type": "markdown",
   "metadata": {},
   "source": [
    "# Basic test\n",
    "Tests the basic model defined in the `ContinuousModel` directory, instantiating bees, hives and resources"
   ]
  },
  {
   "cell_type": "code",
   "execution_count": null,
   "metadata": {},
   "outputs": [],
   "source": [
    "# Allows to make changes to the classes without restarting the notebook 💀 # TODO: Delete once done\n",
    "%load_ext autoreload\n",
    "%autoreload 2"
   ]
  },
  {
   "cell_type": "code",
   "execution_count": null,
   "metadata": {},
   "outputs": [],
   "source": [
    "from continuous_model.Bee import Bee\n",
    "from continuous_model.Hive import Hive\n",
    "from continuous_model.Model import ForagerModel\n",
    "from continuous_model.Resource import Resource"
   ]
  },
  {
   "cell_type": "code",
   "execution_count": null,
   "metadata": {},
   "outputs": [],
   "source": [
    "import mesa\n",
    "import matplotlib.pyplot as plt\n",
    "import numpy as np\n",
    "from scipy.stats import multivariate_normal"
   ]
  },
  {
   "cell_type": "code",
   "execution_count": null,
   "metadata": {},
   "outputs": [],
   "source": [
    "print(multivariate_normal.pdf(list((250,250)), list((300,300)), cov=500))"
   ]
  },
  {
   "cell_type": "markdown",
   "metadata": {},
   "source": [
    "## Instantiate model"
   ]
  },
  {
   "cell_type": "code",
   "execution_count": null,
   "metadata": {},
   "outputs": [],
   "source": [
    "model = ForagerModel(SIZE=10)\n",
    "\n",
    "# Create a beehive\n",
    "HIVE = model.create_agent(Hive, location=(0,0))\n",
    "\n",
    "model.create_agent(Bee, hive=HIVE,location=HIVE.location)\n",
    "model.create_agent(Bee, hive=HIVE,location=(4,-1))\n",
    "model.create_agent(Bee, hive=HIVE,location=(-2,6))\n",
    "model.create_agent(Resource, location=(3,3))"
   ]
  },
  {
   "cell_type": "code",
   "execution_count": null,
   "metadata": {},
   "outputs": [],
   "source": [
    "model.step()"
   ]
  },
  {
   "cell_type": "markdown",
   "metadata": {},
   "source": [
    "## Plot scenario"
   ]
  },
  {
   "cell_type": "code",
   "execution_count": null,
   "metadata": {},
   "outputs": [],
   "source": [
    "# Create canvas\n",
    "fig, ax = plt.subplots(dpi=100,figsize=(6,6))\n",
    "\n",
    "# Set limits of space based on model parameter\n",
    "ax.set_xlim([-model.size,model.size])\n",
    "ax.set_ylim([-model.size,model.size])\n",
    "\n",
    "# Get agents of each type\n",
    "agents = model.agents\n",
    "bees = [agent for agent in agents if isinstance(agent, Bee)]\n",
    "hives = [agent for agent in agents if isinstance(agent, Hive)]\n",
    "resources = [agent for agent in agents if isinstance(agent, Resource)]\n",
    "\n",
    "for hive in hives:\n",
    "    ax.text(hive.location[0],hive.location[1], hive.young_bees)\n",
    "    ax.scatter(hive.location[0],hive.location[1],c='brown',s=3.14*hive.radius**2,label='Hives')\n",
    "\n",
    "for bee in bees:\n",
    "    # Add text indicating their state (0,1,2,3,4)\n",
    "    ax.text(bee.location[0],bee.location[1], str(bee.state)[6:7])\n",
    "    ax.scatter(bee.location[0],bee.location[1],c='black',label='Bees')\n",
    "\n",
    "for resource in resources:\n",
    "    # TODO: Plot resource scent\n",
    "    # TODO: Use different color depending on resource\n",
    "    ax.text(resource.location[0],resource.location[1], resource.quantity)\n",
    "    ax.scatter(resource.location[0],resource.location[1],c='green',s=3.14*resource.radius**2,label='Resource')\n",
    "\n",
    "\n",
    "# Show legend but avoid repeating labels (so there is only one per bee)\n",
    "plt.legend()\n",
    "handles, labels = plt.gca().get_legend_handles_labels()\n",
    "by_label = dict(zip(labels, handles))\n",
    "plt.legend(by_label.values(), by_label.keys())\n",
    "\n",
    "\n",
    "plt.title('Visualization')\n",
    "plt.tight_layout()\n",
    "#plt.grid()"
   ]
  },
  {
   "cell_type": "code",
   "execution_count": null,
   "metadata": {},
   "outputs": [],
   "source": [
    "# Create visualization loop"
   ]
  },
  {
   "cell_type": "markdown",
   "metadata": {},
   "source": [
    "___"
   ]
  },
  {
   "cell_type": "markdown",
   "metadata": {},
   "source": [
    "## Visualization and simulation test\n",
    "- Does model.step() many times, and visualizes evolution\n",
    "- Later on we should be able to create the animation :)"
   ]
  },
  {
   "cell_type": "code",
   "execution_count": null,
   "metadata": {},
   "outputs": [],
   "source": [
    "# Create function for visualization\n",
    "\n",
    "def visualize(model,dpi=100,figsize=(6,6),step=1):\n",
    "    # Create canvas\n",
    "    fig, ax = plt.subplots(dpi=dpi,figsize=figsize)\n",
    "\n",
    "    # Set limits of space based on model parameter\n",
    "    ax.set_xlim([-model.size,model.size])\n",
    "    ax.set_ylim([-model.size,model.size])\n",
    "\n",
    "    # Get agents of each type\n",
    "    agents = model.agents\n",
    "    bees = [agent for agent in agents if isinstance(agent, Bee)]\n",
    "    hives = [agent for agent in agents if isinstance(agent, Hive)]\n",
    "    resources = [agent for agent in agents if isinstance(agent, Resource)]\n",
    "\n",
    "    for hive in hives:\n",
    "        ax.text(hive.location[0],hive.location[1], hive.young_bees)\n",
    "        ax.scatter(hive.location[0],hive.location[1],c='brown',s=3.14*hive.radius**2,label=f'Hive {hive.location}')\n",
    "\n",
    "    for bee in bees:\n",
    "        # Add text indicating their state (0,1,2,3,4)\n",
    "        #ax.text(bee.location[0],bee.location[1], str(bee.state)[6:7])\n",
    "        ax.text(bee.location[0],bee.location[1], '('+str(round(bee.location[0],2))+','+str(round(bee.location[1],2))+')-'+str(bee.state)[6:7])\n",
    "        ax.scatter(bee.location[0],bee.location[1],c='black',label='Bees')\n",
    "\n",
    "    for resource in resources:\n",
    "        # TODO: Plot resource scent\n",
    "        # TODO: Use different color depending on resource\n",
    "        ax.text(resource.location[0],resource.location[1], resource.quantity)\n",
    "        ax.scatter(resource.location[0],resource.location[1],c='green',s=3.14*resource.radius**2,label='Resource')\n",
    "\n",
    "\n",
    "    # Show legend but avoid repeating labels (so there is only one per bee)\n",
    "    plt.legend()\n",
    "    handles, labels = plt.gca().get_legend_handles_labels()\n",
    "    by_label = dict(zip(labels, handles))\n",
    "    plt.legend(by_label.values(), by_label.keys())\n",
    "\n",
    "\n",
    "    plt.title(f'Visualization (t={step})')\n",
    "    plt.tight_layout()\n",
    "#plt.grid()"
   ]
  },
  {
   "cell_type": "markdown",
   "metadata": {},
   "source": [
    "___"
   ]
  },
  {
   "cell_type": "code",
   "execution_count": null,
   "metadata": {},
   "outputs": [],
   "source": [
    "# Create model, a hive, a bee and a single resource\n",
    "model = ForagerModel(SIZE=10)\n",
    "HIVE = model.create_agent(Hive, location=(0,0))\n",
    "model.create_agent(Bee, hive=HIVE,location=(0,0))\n",
    "model.create_agent(Resource, location=(3,3))"
   ]
  },
  {
   "cell_type": "code",
   "execution_count": null,
   "metadata": {},
   "outputs": [],
   "source": [
    "STEPS = 5\n",
    "for step in range(STEPS):\n",
    "    visualize(model,dpi=80,figsize=(5,5),step=step)\n",
    "    model.step()\n",
    "    \n",
    "    "
   ]
  },
  {
   "cell_type": "code",
   "execution_count": null,
   "metadata": {},
   "outputs": [],
   "source": [
    "for bee in bees:\n",
    "        # Add text indicating their state (0,1,2,3,4)\n",
    "        print(bee.location,bee.state)"
   ]
  },
  {
   "cell_type": "markdown",
   "metadata": {},
   "source": [
    "## Animation test\n",
    "- Saves the figures of each time step in an array\n",
    "- Creates an animation out of them"
   ]
  },
  {
   "cell_type": "code",
   "execution_count": null,
   "metadata": {},
   "outputs": [],
   "source": [
    "# Create model, a hive, a bee and a single resource\n",
    "model = Model(SIZE=10)\n",
    "HIVE = model.create_agent(Hive, location=(0,0))\n",
    "model.create_agent(Bee, hive=HIVE,location=(0,0))\n",
    "model.create_agent(Resource, location=(3,3))\n",
    "\n",
    "STEPS = 5\n",
    "figures = []\n",
    "for step in range(STEPS):\n",
    "    figures.append([visualize(model,dpi=80,figsize=(5,5),step=step)])\n",
    "    model.step()"
   ]
  },
  {
   "cell_type": "code",
   "execution_count": null,
   "metadata": {},
   "outputs": [],
   "source": [
    "# Based on PLT tutorial at https://matplotlib.org/stable/gallery/animation/dynamic_image.html\n",
    "# and https://matplotlib.org/stable/gallery/animation/simple_scatter.html\n",
    "import matplotlib.animation as animation\n",
    "\n",
    "fig, ax = plt.subplots()\n",
    "\n",
    "\n",
    "ani = animation.ArtistAnimation(fig, figures, interval=50, blit=True,\n",
    "                                repeat_delay=1000)\n",
    "\n",
    "ani.save(\"movie.mp4\")"
   ]
  },
  {
   "cell_type": "code",
   "execution_count": null,
   "metadata": {},
   "outputs": [],
   "source": [
    "\n",
    "import matplotlib.animation as animation \n",
    "import matplotlib.pyplot as plt \n",
    "\n",
    "fig, ax = plt.subplots() \n",
    "\n",
    "def update(i):\n",
    "    # This does not work, likely because animation must plot eveyrhing at each step instead of working with the resulting figure with text and legend etc...\n",
    "    return figures[i]\n",
    "\n",
    "ani = animation.FuncAnimation(fig, update, frames=len(figures), interval=50, blit=True)\n",
    "ani.save(\"animation.mp4\")\n",
    "plt.show()\n"
   ]
  },
  {
   "cell_type": "code",
   "execution_count": null,
   "metadata": {},
   "outputs": [],
   "source": []
  }
 ],
 "metadata": {
  "kernelspec": {
   "display_name": "Python 3",
   "language": "python",
   "name": "python3"
  },
  "language_info": {
   "codemirror_mode": {
    "name": "ipython",
    "version": 3
   },
   "file_extension": ".py",
   "mimetype": "text/x-python",
   "name": "python",
   "nbconvert_exporter": "python",
   "pygments_lexer": "ipython3",
   "version": "3.12.4"
  }
 },
 "nbformat": 4,
 "nbformat_minor": 2
}
